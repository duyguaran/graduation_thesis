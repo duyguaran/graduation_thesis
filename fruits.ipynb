{
  "nbformat": 4,
  "nbformat_minor": 0,
  "metadata": {
    "accelerator": "TPU",
    "colab": {
      "name": "fruits.ipynb ",
      "provenance": [],
      "collapsed_sections": [],
      "mount_file_id": "https://github.com/duyguaran/graduation_thesis/blob/main/fruits.ipynb",
      "authorship_tag": "ABX9TyOuTmUw77XBwPcO/+xPfbK5",
      "include_colab_link": true
    },
    "kernelspec": {
      "display_name": "Python 3",
      "name": "python3"
    },
    "language_info": {
      "name": "python"
    }
  },
  "cells": [
    {
      "cell_type": "markdown",
      "metadata": {
        "id": "view-in-github",
        "colab_type": "text"
      },
      "source": [
        "<a href=\"https://colab.research.google.com/github/duyguaran/graduation_thesis/blob/main/fruits.ipynb\" target=\"_parent\"><img src=\"https://colab.research.google.com/assets/colab-badge.svg\" alt=\"Open In Colab\"/></a>"
      ]
    },
    {
      "cell_type": "code",
      "metadata": {
        "colab": {
          "base_uri": "https://localhost:8080/"
        },
        "id": "7FKJpzOA6kcp",
        "outputId": "d9bff3ac-b6ed-4528-9ff0-fe771c5c7eae"
      },
      "source": [
        "from google.colab import drive #connected my drive \n",
        "drive.mount('/content/drive')"
      ],
      "execution_count": 1,
      "outputs": [
        {
          "output_type": "stream",
          "text": [
            "Mounted at /content/drive\n"
          ],
          "name": "stdout"
        }
      ]
    },
    {
      "cell_type": "code",
      "metadata": {
        "id": "yU-rQOR6vj3E"
      },
      "source": [
        "#import os  #created kaggle file on mydrive for connect kaggle \n",
        "\n",
        "#os.environ['KAGGLE_CONFIG_DIR'] = \"/content/drive/MyDrive/kaggle\""
      ],
      "execution_count": null,
      "outputs": []
    },
    {
      "cell_type": "code",
      "metadata": {
        "id": "e22iUdxvvpZP"
      },
      "source": [
        "#%cd /content/drive/MyDrive/kaggle\n"
      ],
      "execution_count": null,
      "outputs": []
    },
    {
      "cell_type": "code",
      "metadata": {
        "id": "_pHKkKfGyYGY"
      },
      "source": [
        "#!kaggle datasets download -d   moltean/fruits #downloaded fruit data by using Copy API command  from kaggle "
      ],
      "execution_count": null,
      "outputs": []
    },
    {
      "cell_type": "code",
      "metadata": {
        "id": "DmdofB4BgU61"
      },
      "source": [
        "#unzipping the zip files and deleting the zip files\n",
        "#!unzip \\*.zip  && rm *.zip\n"
      ],
      "execution_count": null,
      "outputs": []
    },
    {
      "cell_type": "code",
      "metadata": {
        "id": "IXWkDg2Gh0jd"
      },
      "source": [
        "import warnings "
      ],
      "execution_count": 2,
      "outputs": []
    },
    {
      "cell_type": "code",
      "metadata": {
        "id": "if10q0o9iE5g",
        "colab": {
          "base_uri": "https://localhost:8080/"
        },
        "outputId": "b70fe031-049f-4aa7-bbf4-3ad7064d33ee"
      },
      "source": [
        "warnings.filterwarnings('ignore')\n",
        "from subprocess import check_output\n",
        "print(check_output([\"ls\", \"/content/drive/MyDrive/kaggle/fruits-360\"]).decode(\"utf8\"))"
      ],
      "execution_count": 3,
      "outputs": [
        {
          "output_type": "stream",
          "text": [
            "LICENSE\n",
            "papers\n",
            "readme.md\n",
            "Test\n",
            "test-multiple_fruits\n",
            "Training\n",
            "\n"
          ],
          "name": "stdout"
        }
      ]
    },
    {
      "cell_type": "code",
      "metadata": {
        "id": "Red0S0n_lLw5"
      },
      "source": [
        "train='/content/drive/MyDrive/kaggle/fruits-360/Training/'\n",
        "test='/content/drive/MyDrive/kaggle/fruits-360/Test/'"
      ],
      "execution_count": 4,
      "outputs": []
    },
    {
      "cell_type": "code",
      "metadata": {
        "id": "6AmlsEm21Xlk"
      },
      "source": [
        "import numpy as np # linear algebra\n",
        "import pandas as pd\n",
        "from glob import glob\n",
        "from sklearn.preprocessing import LabelEncoder\n",
        "import tensorflow as tf\n",
        "from PIL import Image as im\n",
        "from tensorflow.keras import layers,models\n",
        "from sklearn.metrics import confusion_matrix, classification_report\n",
        "import seaborn as sns\n",
        "import matplotlib.pyplot as plt\n",
        "import cv2\n",
        "%matplotlib inline"
      ],
      "execution_count": 5,
      "outputs": []
    },
    {
      "cell_type": "code",
      "metadata": {
        "id": "hsHS7Cc6loY5"
      },
      "source": [
        "X_train_img=np.array(glob(train+'/**/*.jpg',recursive=True)) #data preprocing görüntü pixellerini numpy arrayine yerleştiriyoruz işlemleri dhaa hızlı yapabilmek iin\n",
        "X_test_img=np.array(glob(test+'/**/*.jpg',recursive=True)) # 2 dk 8 sn"
      ],
      "execution_count": 6,
      "outputs": []
    },
    {
      "cell_type": "code",
      "metadata": {
        "id": "Hath8KwS2J32"
      },
      "source": [
        "y_train=[]\n",
        "for x in X_train_img:\n",
        "    y_train.append(x.split('/')[6])\n",
        "y_train=pd.DataFrame(data=y_train,columns=['test'])"
      ],
      "execution_count": 7,
      "outputs": []
    },
    {
      "cell_type": "code",
      "metadata": {
        "colab": {
          "base_uri": "https://localhost:8080/"
        },
        "id": "A_SlAjrn2TM3",
        "outputId": "d6c04278-d150-44a7-f3d8-1d048ab6e419"
      },
      "source": [
        "len(X_train_img)"
      ],
      "execution_count": 8,
      "outputs": [
        {
          "output_type": "execute_result",
          "data": {
            "text/plain": [
              "67692"
            ]
          },
          "metadata": {
            "tags": []
          },
          "execution_count": 8
        }
      ]
    },
    {
      "cell_type": "code",
      "metadata": {
        "id": "0DguMGIz2TTv"
      },
      "source": [
        "y_test=[]\n",
        "for y in X_test_img:\n",
        "    y_test.append(y.split('/')[6])\n",
        "y_test=pd.DataFrame(y_test,columns=['test'])"
      ],
      "execution_count": 9,
      "outputs": []
    },
    {
      "cell_type": "code",
      "metadata": {
        "colab": {
          "base_uri": "https://localhost:8080/"
        },
        "id": "uysPWfW22TWQ",
        "outputId": "f20c396a-c7a0-4a6f-d658-d10c1cca1301"
      },
      "source": [
        "y_train.nunique()"
      ],
      "execution_count": 10,
      "outputs": [
        {
          "output_type": "execute_result",
          "data": {
            "text/plain": [
              "test    1\n",
              "dtype: int64"
            ]
          },
          "metadata": {
            "tags": []
          },
          "execution_count": 10
        }
      ]
    },
    {
      "cell_type": "code",
      "metadata": {
        "id": "nyM61cf22TYa"
      },
      "source": [
        "k=pd.concat([y_train.test,y_test.test])\n",
        "z=LabelEncoder()\n",
        "p=z.fit_transform(k)\n",
        "classifier=[[a,b] for a,b in zip(pd.DataFrame(p)[0].unique(),k.unique())]\n",
        "y_train=p[:len(y_train)]\n",
        "y_test=p[len(y_train):]"
      ],
      "execution_count": 11,
      "outputs": []
    },
    {
      "cell_type": "code",
      "metadata": {
        "colab": {
          "base_uri": "https://localhost:8080/"
        },
        "id": "yMoJh9w62Tax",
        "outputId": "d68f7fd7-da81-49f2-a778-cc25061511de"
      },
      "source": [
        "cv2.imread(X_train_img[1100]).shape #All the images have same size"
      ],
      "execution_count": 12,
      "outputs": [
        {
          "output_type": "execute_result",
          "data": {
            "text/plain": [
              "(100, 100, 3)"
            ]
          },
          "metadata": {
            "tags": []
          },
          "execution_count": 12
        }
      ]
    },
    {
      "cell_type": "code",
      "metadata": {
        "id": "RHwqHWXQ5DRw"
      },
      "source": [
        "X_train=[]\n",
        "X_test=[]"
      ],
      "execution_count": 13,
      "outputs": []
    },
    {
      "cell_type": "code",
      "metadata": {
        "id": "YbueHTfo5DWi"
      },
      "source": [
        ""
      ],
      "execution_count": null,
      "outputs": []
    },
    {
      "cell_type": "code",
      "metadata": {
        "id": "DIGMXCPv5DcK"
      },
      "source": [
        ""
      ],
      "execution_count": null,
      "outputs": []
    },
    {
      "cell_type": "code",
      "metadata": {
        "id": "o_qghEKgvS6s"
      },
      "source": [
        "img = load_img(train + \"Apple Braeburn/0_100.jpg\", target_size=(100,100))\n",
        "plt.imshow(img)\n",
        "plt.axis(\"off\")\n",
        "plt.show()"
      ],
      "execution_count": null,
      "outputs": []
    },
    {
      "cell_type": "code",
      "metadata": {
        "id": "lKzycOHiv-jB"
      },
      "source": [
        "img1 = load_img(test + \"Apricot/321_100.jpg\", target_size=(100,100))\n",
        "plt.imshow(img1)\n",
        "plt.axis(\"off\")\n",
        "plt.show()"
      ],
      "execution_count": null,
      "outputs": []
    },
    {
      "cell_type": "code",
      "metadata": {
        "id": "qFPsoyj7vc9D"
      },
      "source": [
        "from keras.models import Sequential\n",
        "from keras.layers import Conv2D, MaxPooling2D, Activation, Dropout, Flatten, Dense\n",
        "from keras.preprocessing.image import ImageDataGenerator, img_to_array, load_img\n",
        "import matplotlib.pyplot as plt\n",
        "from PIL import Image \n",
        "from glob import glob"
      ],
      "execution_count": null,
      "outputs": []
    },
    {
      "cell_type": "code",
      "metadata": {
        "id": "3Ar5Acc75m7l"
      },
      "source": [
        "import numpy as np # linear algebra\n",
        "import pandas as pd\n",
        "from glob import glob\n",
        "from sklearn.preprocessing import LabelEncoder\n",
        "import tensorflow as tf\n",
        "from PIL import Image as im\n",
        "from tensorflow.keras import layers,models\n",
        "from sklearn.metrics import confusion_matrix, classification_report\n",
        "import seaborn as sns\n",
        "import matplotlib.pyplot as plt\n",
        "import cv2\n",
        "%matplotlib inline"
      ],
      "execution_count": null,
      "outputs": []
    },
    {
      "cell_type": "code",
      "metadata": {
        "id": "m9LjS1My7lws"
      },
      "source": [
        "#training and testing data information\n",
        "import os, os.path\n",
        "train_categories = []\n",
        "train_samples = []\n",
        "for i in os.listdir(\"/content/drive/MyDrive/kaggle/fruits-360/Training/\"):\n",
        "    train_categories.append(i)\n",
        "    train_samples.append(len(os.listdir(\"/content/drive/MyDrive/kaggle/fruits-360/Training/\"+ i)))\n",
        "\n",
        "test_categories = []\n",
        "test_samples = []\n",
        "for i in os.listdir(\"/content/drive/MyDrive/kaggle/fruits-360/Test/\"):\n",
        "    test_categories.append(i)\n",
        "    test_samples.append(len(os.listdir(\"/content/drive/MyDrive/kaggle/fruits-360/Test/\"+i)))\n",
        "\n",
        "    \n",
        "print(\"Count of Fruits in Training set:\", sum(train_samples))\n",
        "print(\"Count of Fruits in Set set:\", sum(test_samples))"
      ],
      "execution_count": null,
      "outputs": []
    },
    {
      "cell_type": "code",
      "metadata": {
        "id": "emJ3zOTT9p60"
      },
      "source": [
        "import matplotlib.pyplot as plt"
      ],
      "execution_count": null,
      "outputs": []
    },
    {
      "cell_type": "code",
      "metadata": {
        "id": "WCIDzgir8QUg"
      },
      "source": [
        "figure_size = plt.rcParams[\"figure.figsize\"]\n",
        "figure_size[0] = 40\n",
        "figure_size[1] = 20\n",
        "plt.rcParams[\"figure.figsize\"] = figure_size\n",
        "index = np.arange(len(train_categories))\n",
        "plt.bar(index, train_samples, color=\"#969696\")\n",
        "plt.xlabel('Meyveler', fontsize=30)\n",
        "plt.ylabel('Meyve sayısı', fontsize=30)\n",
        "plt.xticks(index, train_categories, fontsize=20, rotation=90)\n",
        "plt.title('Distrubution of Fruits with counts in Training Set', fontsize=35)\n",
        "plt.show() # distribution of uploaded training data"
      ],
      "execution_count": null,
      "outputs": []
    },
    {
      "cell_type": "code",
      "metadata": {
        "id": "V32_BW5t9aSl"
      },
      "source": [
        "index2 = np.arange(len(test_categories))\n",
        "plt.bar(index2, test_samples, color=\"#fbb4b9\")\n",
        "plt.xlabel('Meyveler', fontsize=30)\n",
        "plt.ylabel('Meyvelerin Sayısı', fontsize=30)\n",
        "plt.xticks(index2, test_categories, fontsize=15, rotation=90)\n",
        "plt.title('Distrubution of Fruits with counts in Test Set', fontsize=35)\n",
        "plt.show() # distribution of uploaded testing data\n"
      ],
      "execution_count": null,
      "outputs": []
    },
    {
      "cell_type": "code",
      "metadata": {
        "id": "ij0zxxmcbj4a"
      },
      "source": [
        "import pandas as pd\n",
        "from pathlib import Path"
      ],
      "execution_count": null,
      "outputs": []
    },
    {
      "cell_type": "code",
      "metadata": {
        "id": "LRUtxH-EbUYx"
      },
      "source": [
        "train_dir = Path('/content/drive/MyDrive/graduation/fruits-360/Training')\n",
        "train_filepaths = list(train_dir.glob(r'**/*.jpg'))\n",
        "test_dir = Path('/content/drive/MyDrive/graduation/fruits-360/Testing')\n",
        "test_filepaths = list(test_dir.glob(r'**/*.jpg'))"
      ],
      "execution_count": null,
      "outputs": []
    },
    {
      "cell_type": "code",
      "metadata": {
        "id": "BLH7yoGlZxcj"
      },
      "source": [
        "def proc_img(filepath):\n",
        "    \n",
        "    labels = [str(filepath[i]).split(\"/\")[-2] \\\n",
        "              for i in range(len(filepath))]\n",
        "\n",
        "    filepath = pd.Series(filepath, name='Filepath').astype(str)\n",
        "    labels = pd.Series(labels, name='Label')\n",
        "    df = pd.concat([filepath, labels], axis=1)\n",
        "    df = df.sample(frac=1).reset_index(drop = True)\n",
        "    return df\n",
        "\n",
        "train_df = proc_img(train_filepaths)\n",
        "test_df = proc_img(test_filepaths)\n",
        "\n",
        "print(f'Goruntulerin sayısı: {train_df.shape[0]}\\n')\n",
        "print(f'Farklı etiketlerin sayısı: {len(train_df.Label.unique())}\\n')\n",
        "print(f'Etiketler: {train_df.Label.unique()}')"
      ],
      "execution_count": null,
      "outputs": []
    },
    {
      "cell_type": "code",
      "metadata": {
        "id": "ofelGX5bbL_3"
      },
      "source": [
        "train_df.head() # we can see that which paths the labels are"
      ],
      "execution_count": null,
      "outputs": []
    },
    {
      "cell_type": "code",
      "metadata": {
        "id": "nCsJ22S9cQ1A"
      },
      "source": [
        "df_unique = train_df.copy().drop_duplicates(subset=[\"Label\"]).reset_index() #df with a Label of each category\n",
        "fig, axes = plt.subplots(nrows=4, ncols=10, figsize=(15, 7), # we can see that some images of the dataset\n",
        "                        subplot_kw={'xticks': [], 'yticks': []})\n",
        "\n",
        "for i, ax in enumerate(axes.flat):\n",
        "    ax.imshow(plt.imread(df_unique.Filepath[i]))\n",
        "    ax.set_title(df_unique.Label[i], fontsize = 9)\n",
        "plt.tight_layout(pad=0.5)\n",
        "plt.show()"
      ],
      "execution_count": null,
      "outputs": []
    },
    {
      "cell_type": "code",
      "metadata": {
        "id": "Dd419MbsXefh"
      },
      "source": [
        "from sklearn.datasets import load_files"
      ],
      "execution_count": null,
      "outputs": []
    },
    {
      "cell_type": "code",
      "metadata": {
        "id": "nRniUbOHZfSG"
      },
      "source": [
        ""
      ],
      "execution_count": null,
      "outputs": []
    }
  ]
}